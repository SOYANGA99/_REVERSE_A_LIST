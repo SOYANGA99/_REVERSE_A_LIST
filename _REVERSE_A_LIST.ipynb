{
 "cells": [
  {
   "cell_type": "code",
   "execution_count": 18,
   "id": "1a6ccd80",
   "metadata": {},
   "outputs": [
    {
     "name": "stdout",
     "output_type": "stream",
     "text": [
      "[60, 50, 40, 30, 20, 10]\n"
     ]
    }
   ],
   "source": [
    "def Reverse(rev):\n",
    "    return[ele for ele in reversed(rev)]\n",
    "rev= [10,20,30,40,50,60]\n",
    "print(Reverse(rev))"
   ]
  },
  {
   "cell_type": "code",
   "execution_count": 9,
   "id": "35204589",
   "metadata": {},
   "outputs": [
    {
     "name": "stdout",
     "output_type": "stream",
     "text": [
      "[60, 50, 40, 30, 20, 10]\n"
     ]
    }
   ],
   "source": [
    "def Reverse(rev):\n",
    "    rev.reverse()\n",
    "    return rev\n",
    "rev= [10,20,30,40,50,60]\n",
    "print(Reverse(rev))"
   ]
  },
  {
   "cell_type": "code",
   "execution_count": 24,
   "id": "b8c17c09",
   "metadata": {},
   "outputs": [
    {
     "name": "stdout",
     "output_type": "stream",
     "text": [
      "Enter no of elements in the list:-3\n",
      "10\n",
      "20\n",
      "30\n",
      "[30, 20, 10]\n"
     ]
    }
   ],
   "source": [
    "def Reverse(rev):\n",
    "    rev.reverse()\n",
    "    return rev\n",
    "rev= []\n",
    "n=int(input(\"Enter no of elements in the list:-\"))\n",
    "for i in range(0,n):\n",
    "    ele=int(input())\n",
    "    rev.append(ele)\n",
    "print(Reverse(rev))"
   ]
  },
  {
   "cell_type": "code",
   "execution_count": null,
   "id": "47ac0bfd",
   "metadata": {},
   "outputs": [],
   "source": []
  }
 ],
 "metadata": {
  "kernelspec": {
   "display_name": "Python 3 (ipykernel)",
   "language": "python",
   "name": "python3"
  },
  "language_info": {
   "codemirror_mode": {
    "name": "ipython",
    "version": 3
   },
   "file_extension": ".py",
   "mimetype": "text/x-python",
   "name": "python",
   "nbconvert_exporter": "python",
   "pygments_lexer": "ipython3",
   "version": "3.9.7"
  }
 },
 "nbformat": 4,
 "nbformat_minor": 5
}
